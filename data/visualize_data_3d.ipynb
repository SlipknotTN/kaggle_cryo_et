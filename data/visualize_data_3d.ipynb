{
 "cells": [
  {
   "cell_type": "markdown",
   "id": "265d1d1b-e200-45bb-a5e7-0194bdbde4e6",
   "metadata": {},
   "source": [
    "## Import libraries"
   ]
  },
  {
   "cell_type": "code",
   "execution_count": null,
   "id": "83d6cc0a-8054-4149-80fe-a2cf588abe0b",
   "metadata": {},
   "outputs": [],
   "source": [
    "import os\n",
    "\n",
    "import copick\n",
    "import matplotlib\n",
    "import matplotlib.pyplot as plt\n",
    "import numpy as np\n",
    "import plotly.graph_objects as go\n",
    "\n",
    "%matplotlib widget"
   ]
  },
  {
   "cell_type": "markdown",
   "id": "a138cd33-6d12-4238-a36c-168e3f3a4811",
   "metadata": {},
   "source": [
    "## Load data"
   ]
  },
  {
   "cell_type": "code",
   "execution_count": null,
   "id": "7e0bfac8-a162-4954-b341-dd3e6190aea3",
   "metadata": {},
   "outputs": [],
   "source": [
    "copick_filepath = \"/home/michele/DNN/kaggle/kaggle_cryo_et/dataset/train/copick.config\"\n",
    "numpy_anns_sphere_dir = \"/home/michele/DNN/kaggle/kaggle_cryo_et/dataset/train/numpy_sphere\"\n",
    "numpy_anns_point_dir = \"/home/michele/DNN/kaggle/kaggle_cryo_et/dataset/train/numpy_point\"\n",
    "experiments_dir = \"/home/michele/DNN/kaggle/kaggle_cryo_et/dataset/train/static/ExperimentRuns\"\n",
    "voxel_spacing = 10\n",
    "tomo_type = \"denoised\"\n",
    "available_runs = os.listdir(experiments_dir)\n",
    "print(f\"Available runs: {available_runs}\")\n",
    "root_copick = copick.from_file(copick_filepath)"
   ]
  },
  {
   "cell_type": "markdown",
   "id": "25deab0d-0c98-4627-89ba-043b22eba801",
   "metadata": {},
   "source": [
    "### Select data"
   ]
  },
  {
   "cell_type": "code",
   "execution_count": null,
   "id": "55330ebe-ce7b-4f92-9038-4bb4f98fcc31",
   "metadata": {},
   "outputs": [],
   "source": [
    "experiment_to_show = \"TS_5_4\"\n",
    "annotation_type = \"sphere\"\n",
    "\n",
    "experiment_ann_sphere = np.load(os.path.join(numpy_anns_sphere_dir, experiment_to_show + \".npy\"))\n",
    "experiment_ann_points = np.load(os.path.join(numpy_anns_point_dir, experiment_to_show + \".npy\"))"
   ]
  },
  {
   "cell_type": "markdown",
   "id": "f9609ffd-7841-4305-ad30-d683d6d85edf",
   "metadata": {},
   "source": [
    "## Visualize data\n",
    "\n",
    "Draw the data points in the quantized voxel space"
   ]
  },
  {
   "cell_type": "code",
   "execution_count": null,
   "id": "5da23918-0636-420f-ab79-e84529665b5f",
   "metadata": {},
   "outputs": [],
   "source": [
    "def draw_3d_labels_plotly(root_copick, experiment_ann, plotly_fig, marker_size=3):\n",
    "    for obj in root_copick.pickable_objects:\n",
    "        if not obj.is_particle:\n",
    "            continue\n",
    "        print(f\"Name: {obj.name}, radius: {obj.radius}, color: {obj.color}\")\n",
    "        # Set color corresponding to label\n",
    "        particle_type_bool = experiment_ann == obj.label\n",
    "        # Get tuple of z, y, x values\n",
    "        label_volume_coordinates = particle_type_bool.nonzero()\n",
    "        z_values = label_volume_coordinates[0]\n",
    "        y_values = label_volume_coordinates[1]\n",
    "        x_values = label_volume_coordinates[2]\n",
    "        print(f\"Number of volume points to draw: {len(z_values)}\")\n",
    "        plotly_fig.add_trace(\n",
    "            go.Scatter3d(\n",
    "                x=x_values,\n",
    "                y=y_values,\n",
    "                z=z_values,\n",
    "                mode=\"markers\",\n",
    "                name=obj.name,\n",
    "                marker=dict(\n",
    "                    color=f\"rgb({obj.color[0]}, {obj.color[1]}, {obj.color[2]})\",\n",
    "                    size=marker_size\n",
    "                )\n",
    "            ),\n",
    "        )\n",
    "\n",
    "def draw_copick_points_plotly(root_copick, plotly_fig, marker_size=3):\n",
    "    for obj in root_copick.pickable_objects:\n",
    "        if not obj.is_particle:\n",
    "            continue\n",
    "        print(f\"Name: {obj.name}, radius: {obj.radius}, color: {obj.color}\")\n",
    "        picks = run.get_picks(obj.name, user_id=\"curation\", session_id=\"0\")\n",
    "        assert len(picks) == 1\n",
    "        # Visualize each annotation independently\n",
    "        x_values = []\n",
    "        y_values = []\n",
    "        z_values = []\n",
    "        for point in picks[0].points:\n",
    "            # Center\n",
    "            x_values.append(round(point.location.x / voxel_spacing))\n",
    "            y_values.append(round(point.location.y / voxel_spacing))\n",
    "            z_values.append(round(point.location.z / voxel_spacing))\n",
    "        print(f\"Number of copick points to draw: {len(z_values)}\")\n",
    "        plotly_fig.add_trace(\n",
    "            go.Scatter3d(\n",
    "                x=x_values,\n",
    "                y=y_values,\n",
    "                z=z_values,\n",
    "                mode=\"markers\",\n",
    "                name=obj.name,\n",
    "                marker=dict(\n",
    "                    color=f\"rgb({obj.color[0]}, {obj.color[1]}, {obj.color[2]})\",\n",
    "                    size=marker_size\n",
    "                )\n",
    "            )\n",
    "        )\n",
    "\n",
    "def update_plotly_layout(plotly_fig, max_x, max_y, max_z, axis_range_ext, title):\n",
    "    fig.update_layout(\n",
    "    title=dict(\n",
    "        text=title,\n",
    "        font=dict(size=20)\n",
    "    ),\n",
    "    legend=dict(\n",
    "        font=dict(size=12)\n",
    "    ),\n",
    "    scene = dict(\n",
    "        xaxis = dict(range=[0, round(volume_shape[2] * 1.1)], zerolinecolor=\"black\", gridcolor=\"gray\"),\n",
    "        yaxis = dict(range=[0, round(volume_shape[1] * 1.1)], zerolinecolor=\"black\", gridcolor=\"gray\"),\n",
    "        zaxis = dict(range=[0, round(volume_shape[0] * 1.1)], zerolinecolor=\"black\", gridcolor=\"gray\"),\n",
    "    ),\n",
    "    autosize=False,\n",
    "    width=800,\n",
    "    height=800,\n",
    "    paper_bgcolor=\"LightSteelBlue\",\n",
    ")"
   ]
  },
  {
   "cell_type": "markdown",
   "id": "492d7f37-3b84-4cbd-9309-776346448d92",
   "metadata": {},
   "source": [
    "### Draw sphere volumes from processed numpy\n",
    "\n",
    "WARNING: plotly is way faster than matplotlib, but visualizing the sphere of points could still be slow and occupy a lot of memory\n",
    "\n",
    "The volume to draw has already the sphere around the target 3D point. The radius of the sphere depend on the particle type"
   ]
  },
  {
   "cell_type": "code",
   "execution_count": null,
   "id": "d7ce84e3-811b-4e1e-9454-09a45b9d893a",
   "metadata": {},
   "outputs": [],
   "source": [
    "volume_shape = experiment_ann_sphere.shape\n",
    "print(f\"Volume shape: {volume_shape}\")\n",
    "\n",
    "fig = go.Figure()\n",
    "draw_3d_labels_plotly(root_copick, experiment_ann_sphere, fig, marker_size=3)\n",
    "update_plotly_layout(\n",
    "    fig,\n",
    "    max_x=volume_shape[2],\n",
    "    max_y=volume_shape[1],\n",
    "    max_z=volume_shape[0],\n",
    "    axis_range_ext=1.1,\n",
    "    title=f\"Numpy 3D spheres {experiment_to_show}\"\n",
    ")\n",
    "print(\"Building figure to show...\")\n",
    "fig.show()"
   ]
  },
  {
   "cell_type": "markdown",
   "id": "d7640db5-c514-462a-ad9a-908ce0c5bfd6",
   "metadata": {},
   "source": [
    "### Draw points from processed numpy\n",
    "\n",
    "Draw the target 3D points in the quantized voxel space"
   ]
  },
  {
   "cell_type": "code",
   "execution_count": null,
   "id": "9ef3dddd-50ae-4988-a283-881dfa334842",
   "metadata": {},
   "outputs": [],
   "source": [
    "volume_shape = experiment_ann_sphere.shape\n",
    "print(f\"Volume shape: {volume_shape}\")\n",
    "\n",
    "fig = go.Figure()\n",
    "draw_3d_labels_plotly(root_copick, experiment_ann_points, fig, marker_size=3)\n",
    "update_plotly_layout(\n",
    "    fig,\n",
    "    max_x=volume_shape[2],\n",
    "    max_y=volume_shape[1],\n",
    "    max_z=volume_shape[0],\n",
    "    axis_range_ext=1.1,\n",
    "    title=f\"Numpy 3D points {experiment_to_show}\"\n",
    ")\n",
    "print(\"Building figure to show...\")\n",
    "fig.show()"
   ]
  },
  {
   "cell_type": "markdown",
   "id": "033b917b-69ea-4716-bfa7-abc86a4c3738",
   "metadata": {},
   "source": [
    "### Draw centroids from copick format\n",
    "\n",
    "Use the original copick format to draw the 3D points, this should be equivalent to the numpy points annotations"
   ]
  },
  {
   "cell_type": "code",
   "execution_count": null,
   "id": "197d9d2f-1426-472f-af0c-6d0e1731fe31",
   "metadata": {},
   "outputs": [],
   "source": [
    "fig = go.Figure()\n",
    "draw_3d_labels_plotly(root_copick, experiment_ann_points, fig, marker_size=3)\n",
    "update_plotly_layout(\n",
    "    fig,\n",
    "    max_x=volume_shape[2],\n",
    "    max_y=volume_shape[1],\n",
    "    max_z=volume_shape[0],\n",
    "    axis_range_ext=1.1,\n",
    "    title=f\"Copick centroids {experiment_to_show}\"\n",
    ")\n",
    "print(\"Building figure to show...\")\n",
    "fig.show()"
   ]
  },
  {
   "cell_type": "markdown",
   "id": "82b95dc0-c1d0-4762-91e0-d719d54c8b15",
   "metadata": {},
   "source": [
    "matplotlib fallback for reference, the number of points is manageable with matplotlib as well, although it is more laggy"
   ]
  },
  {
   "cell_type": "code",
   "execution_count": null,
   "id": "47c00c3c-5d0c-400e-83dd-25296ca370a1",
   "metadata": {},
   "outputs": [],
   "source": [
    "ax = plt.figure(f\"Copick centroids {experiment_to_show}\").add_subplot(projection='3d')\n",
    "xs = []\n",
    "ys = []\n",
    "zs = []\n",
    "colors = []\n",
    "for obj in root_copick.pickable_objects:\n",
    "    if not obj.is_particle:\n",
    "        continue\n",
    "    print(f\"Name: {obj.name}, radius: {obj.radius}, color: {obj.color}\")\n",
    "    picks = run.get_picks(obj.name, user_id=\"curation\", session_id=\"0\")\n",
    "    assert len(picks) == 1\n",
    "    # Visualize each annotation independently\n",
    "    for point in picks[0].points:\n",
    "        # Center\n",
    "        xs.append(round(point.location.x / voxel_spacing))\n",
    "        ys.append(round(point.location.y / voxel_spacing))\n",
    "        zs.append(round(point.location.z / voxel_spacing))\n",
    "        colors.append(np.array(obj.color[:3]) / 255)\n",
    "ax.scatter(xs, ys, zs, c=colors)\n",
    "ax.set_xlabel('X')\n",
    "ax.set_ylabel('Y')\n",
    "ax.set_zlabel('Z')\n",
    "plt.show()"
   ]
  },
  {
   "cell_type": "code",
   "execution_count": null,
   "id": "78b3cd0b-7b80-4c7c-b6b5-4742a3d56386",
   "metadata": {},
   "outputs": [],
   "source": []
  }
 ],
 "metadata": {
  "kernelspec": {
   "display_name": "Python 3 (ipykernel)",
   "language": "python",
   "name": "python3"
  },
  "language_info": {
   "codemirror_mode": {
    "name": "ipython",
    "version": 3
   },
   "file_extension": ".py",
   "mimetype": "text/x-python",
   "name": "python",
   "nbconvert_exporter": "python",
   "pygments_lexer": "ipython3",
   "version": "3.10.4"
  }
 },
 "nbformat": 4,
 "nbformat_minor": 5
}

{
 "cells": [
  {
   "cell_type": "markdown",
   "id": "265d1d1b-e200-45bb-a5e7-0194bdbde4e6",
   "metadata": {},
   "source": [
    "## Import libraries"
   ]
  },
  {
   "cell_type": "code",
   "execution_count": null,
   "id": "83d6cc0a-8054-4149-80fe-a2cf588abe0b",
   "metadata": {},
   "outputs": [],
   "source": [
    "import os\n",
    "\n",
    "import copick\n",
    "import matplotlib\n",
    "import matplotlib.pyplot as plt\n",
    "import numpy as np\n",
    "\n",
    "%matplotlib widget"
   ]
  },
  {
   "cell_type": "markdown",
   "id": "a138cd33-6d12-4238-a36c-168e3f3a4811",
   "metadata": {},
   "source": [
    "## Load data"
   ]
  },
  {
   "cell_type": "code",
   "execution_count": null,
   "id": "7e0bfac8-a162-4954-b341-dd3e6190aea3",
   "metadata": {},
   "outputs": [],
   "source": [
    "copick_filepath = \"/home/michele/DNN/kaggle/kaggle_cryo_et/dataset/train/copick.config\"\n",
    "numpy_anns_sphere_dir = \"/home/michele/DNN/kaggle/kaggle_cryo_et/dataset/train/numpy_sphere\"\n",
    "numpy_anns_point_dir = \"/home/michele/DNN/kaggle/kaggle_cryo_et/dataset/train/numpy_point\"\n",
    "experiments_dir = \"/home/michele/DNN/kaggle/kaggle_cryo_et/dataset/train/static/ExperimentRuns\"\n",
    "voxel_spacing = 10\n",
    "tomo_type = \"denoised\"\n",
    "available_runs = os.listdir(experiments_dir)\n",
    "print(f\"Available runs: {available_runs}\")\n",
    "root_copick = copick.from_file(copick_filepath)"
   ]
  },
  {
   "cell_type": "markdown",
   "id": "25deab0d-0c98-4627-89ba-043b22eba801",
   "metadata": {},
   "source": [
    "### Select data"
   ]
  },
  {
   "cell_type": "code",
   "execution_count": null,
   "id": "55330ebe-ce7b-4f92-9038-4bb4f98fcc31",
   "metadata": {},
   "outputs": [],
   "source": [
    "experiment_to_show = \"TS_5_4\"\n",
    "annotation_type = \"sphere\"\n",
    "\n",
    "if annotation_type == \"sphere\":\n",
    "    experiment_ann = np.load(os.path.join(numpy_anns_sphere_dir, experiment_to_show + \".npy\"))\n",
    "if annotation_type == \"point\":\n",
    "    experiment_ann = np.load(os.path.join(numpy_anns_point_dir, experiment_to_show + \".npy\"))"
   ]
  },
  {
   "cell_type": "markdown",
   "id": "f9609ffd-7841-4305-ad30-d683d6d85edf",
   "metadata": {},
   "source": [
    "## Visualize data\n",
    "\n",
    "### Draw dense volumes from processed numpy\n",
    "\n",
    "WARNING: Visualization as dense voxels is too slow, please skip this cell"
   ]
  },
  {
   "cell_type": "code",
   "execution_count": null,
   "id": "c9e1e3d6-ba76-42d6-8b8e-fa10555cc2ca",
   "metadata": {},
   "outputs": [],
   "source": [
    "ax = plt.figure().add_subplot(projection='3d')\n",
    "for obj in root_copick.pickable_objects:\n",
    "    if not obj.is_particle:\n",
    "        continue\n",
    "    print(f\"Name: {obj.name}, radius: {obj.radius}, color: {obj.color}\")\n",
    "    # Set color corresponding to label\n",
    "    particle_type_bool = experiment_ann == obj.label\n",
    "    ax.voxels(filled=particle_type_bool, facecolors=list(obj.color[:3]))\n",
    "ax.set_aspect('equal')\n",
    "plt.show()"
   ]
  },
  {
   "cell_type": "markdown",
   "id": "033b917b-69ea-4716-bfa7-abc86a4c3738",
   "metadata": {},
   "source": [
    "### Draw centroids from copick format"
   ]
  },
  {
   "cell_type": "code",
   "execution_count": null,
   "id": "47c00c3c-5d0c-400e-83dd-25296ca370a1",
   "metadata": {},
   "outputs": [],
   "source": [
    "run = next(iter([single_run for single_run in root_copick.runs if single_run.name == experiment_to_show]))\n",
    "print(run)\n",
    "\n",
    "ax = plt.figure().add_subplot(projection='3d')\n",
    "xs = []\n",
    "ys = []\n",
    "zs = []\n",
    "colors = []\n",
    "for obj in root_copick.pickable_objects:\n",
    "    if not obj.is_particle:\n",
    "        continue\n",
    "    print(f\"Name: {obj.name}, radius: {obj.radius}, color: {obj.color}\")\n",
    "    picks = run.get_picks(obj.name, user_id=\"curation\", session_id=\"0\")\n",
    "    assert len(picks) == 1\n",
    "    # Visualize each annotation independently\n",
    "    for point in picks[0].points:\n",
    "        # Center\n",
    "        xs.append(round(point.location.x / voxel_spacing))\n",
    "        ys.append(round(point.location.y / voxel_spacing))\n",
    "        zs.append(round(point.location.z / voxel_spacing))\n",
    "        colors.append(np.array(obj.color[:3]) / 255)\n",
    "ax.scatter(xs, ys, zs, c=colors)\n",
    "ax.set_xlabel('X')\n",
    "ax.set_ylabel('Y')\n",
    "ax.set_zlabel('Z')\n",
    "plt.show()"
   ]
  }
 ],
 "metadata": {
  "kernelspec": {
   "display_name": "Python 3 (ipykernel)",
   "language": "python",
   "name": "python3"
  },
  "language_info": {
   "codemirror_mode": {
    "name": "ipython",
    "version": 3
   },
   "file_extension": ".py",
   "mimetype": "text/x-python",
   "name": "python",
   "nbconvert_exporter": "python",
   "pygments_lexer": "ipython3",
   "version": "3.10.4"
  }
 },
 "nbformat": 4,
 "nbformat_minor": 5
}

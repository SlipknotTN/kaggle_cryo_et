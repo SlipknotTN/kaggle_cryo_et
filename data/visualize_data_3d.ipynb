{
 "cells": [
  {
   "cell_type": "markdown",
   "id": "265d1d1b-e200-45bb-a5e7-0194bdbde4e6",
   "metadata": {},
   "source": [
    "## Import libraries"
   ]
  },
  {
   "cell_type": "code",
   "execution_count": 29,
   "id": "83d6cc0a-8054-4149-80fe-a2cf588abe0b",
   "metadata": {},
   "outputs": [],
   "source": [
    "import os\n",
    "\n",
    "import copick\n",
    "import matplotlib\n",
    "import matplotlib.pyplot as plt\n",
    "import numpy as np"
   ]
  },
  {
   "cell_type": "markdown",
   "id": "a138cd33-6d12-4238-a36c-168e3f3a4811",
   "metadata": {},
   "source": [
    "## Load data"
   ]
  },
  {
   "cell_type": "code",
   "execution_count": 53,
   "id": "7e0bfac8-a162-4954-b341-dd3e6190aea3",
   "metadata": {},
   "outputs": [
    {
     "name": "stdout",
     "output_type": "stream",
     "text": [
      "Available runs: ['TS_5_4', 'TS_69_2', 'TS_6_4', 'TS_6_6', 'TS_73_6', 'TS_86_3', 'TS_99_9']\n"
     ]
    }
   ],
   "source": [
    "copick_filepath = \"/home/michele/DNN/kaggle/kaggle_cryo_et/dataset/train/copick.config\"\n",
    "numpy_anns_dir = \"/home/michele/DNN/kaggle/kaggle_cryo_et/dataset/train/numpy\"\n",
    "experiments_dir = \"/home/michele/DNN/kaggle/kaggle_cryo_et/dataset/train/static/ExperimentRuns\"\n",
    "voxel_spacing = 10\n",
    "tomo_type = \"denoised\"\n",
    "available_runs = os.listdir(experiments_dir)\n",
    "print(f\"Available runs: {available_runs}\")\n",
    "root_copick = copick.from_file(copick_filepath)"
   ]
  },
  {
   "cell_type": "markdown",
   "id": "25deab0d-0c98-4627-89ba-043b22eba801",
   "metadata": {},
   "source": [
    "### Select data"
   ]
  },
  {
   "cell_type": "code",
   "execution_count": 54,
   "id": "55330ebe-ce7b-4f92-9038-4bb4f98fcc31",
   "metadata": {},
   "outputs": [],
   "source": [
    "experiment_to_show = \"TS_5_4\""
   ]
  },
  {
   "cell_type": "markdown",
   "id": "f9609ffd-7841-4305-ad30-d683d6d85edf",
   "metadata": {},
   "source": [
    "## Visualize data"
   ]
  },
  {
   "cell_type": "code",
   "execution_count": 51,
   "id": "c9e1e3d6-ba76-42d6-8b8e-fa10555cc2ca",
   "metadata": {},
   "outputs": [],
   "source": [
    "# Visualization as voxels is too slow\n",
    "\n",
    "#ax = plt.figure().add_subplot(projection='3d')\n",
    "#for obj in root_copick.pickable_objects:\n",
    "#    if not obj.is_particle:\n",
    "#        continue\n",
    "#    print(f\"Name: {obj.name}, radius: {obj.radius}, color: {obj.color}\")\n",
    "#    # Set color corresponding to label\n",
    "#    particle_type_bool = experiment_ann == obj.label\n",
    "#    ax.voxels(filled=particle_type_bool, facecolors=list(obj.color[:3]))\n",
    "#ax.set_aspect('equal')\n",
    "#plt.show()"
   ]
  },
  {
   "cell_type": "code",
   "execution_count": 52,
   "id": "47c00c3c-5d0c-400e-83dd-25296ca370a1",
   "metadata": {},
   "outputs": [
    {
     "name": "stdout",
     "output_type": "stream",
     "text": [
      "CopickRun(name=TS_5_4, len(voxel_spacings)=None, len(picks)=None, len(meshes)=None, len(segmentations)=None) at 0x7fa4934f4c40\n",
      "Name: apo-ferritin, radius: 60.0, color: (0, 117, 220, 128)\n"
     ]
    },
    {
     "ename": "AssertionError",
     "evalue": "",
     "output_type": "error",
     "traceback": [
      "\u001b[0;31m---------------------------------------------------------------------------\u001b[0m",
      "\u001b[0;31mAssertionError\u001b[0m                            Traceback (most recent call last)",
      "Cell \u001b[0;32mIn[52], line 9\u001b[0m\n\u001b[1;32m      7\u001b[0m \u001b[38;5;28mprint\u001b[39m(\u001b[38;5;124mf\u001b[39m\u001b[38;5;124m\"\u001b[39m\u001b[38;5;124mName: \u001b[39m\u001b[38;5;132;01m{\u001b[39;00mobj\u001b[38;5;241m.\u001b[39mname\u001b[38;5;132;01m}\u001b[39;00m\u001b[38;5;124m, radius: \u001b[39m\u001b[38;5;132;01m{\u001b[39;00mobj\u001b[38;5;241m.\u001b[39mradius\u001b[38;5;132;01m}\u001b[39;00m\u001b[38;5;124m, color: \u001b[39m\u001b[38;5;132;01m{\u001b[39;00mobj\u001b[38;5;241m.\u001b[39mcolor\u001b[38;5;132;01m}\u001b[39;00m\u001b[38;5;124m\"\u001b[39m)\n\u001b[1;32m      8\u001b[0m picks \u001b[38;5;241m=\u001b[39m run\u001b[38;5;241m.\u001b[39mget_picks(obj\u001b[38;5;241m.\u001b[39mname, user_id\u001b[38;5;241m=\u001b[39m\u001b[38;5;124m\"\u001b[39m\u001b[38;5;124mcuration\u001b[39m\u001b[38;5;124m\"\u001b[39m, session_id\u001b[38;5;241m=\u001b[39m\u001b[38;5;124m\"\u001b[39m\u001b[38;5;124m0\u001b[39m\u001b[38;5;124m\"\u001b[39m)\n\u001b[0;32m----> 9\u001b[0m \u001b[38;5;28;01massert\u001b[39;00m \u001b[38;5;28mlen\u001b[39m(picks) \u001b[38;5;241m==\u001b[39m \u001b[38;5;241m1\u001b[39m\n\u001b[1;32m     10\u001b[0m \u001b[38;5;66;03m# Visualize each annotation independently\u001b[39;00m\n\u001b[1;32m     11\u001b[0m \u001b[38;5;28;01mfor\u001b[39;00m point \u001b[38;5;129;01min\u001b[39;00m picks[\u001b[38;5;241m0\u001b[39m]\u001b[38;5;241m.\u001b[39mpoints:\n\u001b[1;32m     12\u001b[0m     \u001b[38;5;66;03m# Center\u001b[39;00m\n",
      "\u001b[0;31mAssertionError\u001b[0m: "
     ]
    }
   ],
   "source": [
    "run = next(iter([single_run for single_run in root_copick.runs if single_run.name == experiment_to_show]))\n",
    "print(run)\n",
    "\n",
    "ax = plt.figure().add_subplot(projection='3d_centroids')\n",
    "for obj in root_copick.pickable_objects:\n",
    "    if not obj.is_particle:\n",
    "        continue\n",
    "    print(f\"Name: {obj.name}, radius: {obj.radius}, color: {obj.color}\")\n",
    "    picks = run.get_picks(obj.name, user_id=\"curation\", session_id=\"0\")\n",
    "    assert len(picks) == 1\n",
    "    # Visualize each annotation independently\n",
    "    for point in picks[0].points:\n",
    "        # Center\n",
    "        x_slice_idx = round(point.location.x / voxel_spacing)\n",
    "        y_slice_idx = round(point.location.y / voxel_spacing)\n",
    "        z_slice_idx = round(point.location.z / voxel_spacing)\n",
    "        ax.scatter(xs, ys, zs, marker=m)\n",
    "plt.show()"
   ]
  },
  {
   "cell_type": "code",
   "execution_count": null,
   "id": "8b12e17c-901e-4645-83d0-994fea6bc81c",
   "metadata": {},
   "outputs": [],
   "source": []
  }
 ],
 "metadata": {
  "kernelspec": {
   "display_name": "Python 3 (ipykernel)",
   "language": "python",
   "name": "python3"
  },
  "language_info": {
   "codemirror_mode": {
    "name": "ipython",
    "version": 3
   },
   "file_extension": ".py",
   "mimetype": "text/x-python",
   "name": "python",
   "nbconvert_exporter": "python",
   "pygments_lexer": "ipython3",
   "version": "3.10.4"
  }
 },
 "nbformat": 4,
 "nbformat_minor": 5
}
